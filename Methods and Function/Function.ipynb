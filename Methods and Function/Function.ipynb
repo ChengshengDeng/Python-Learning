{
 "cells": [
  {
   "cell_type": "code",
   "execution_count": 13,
   "metadata": {},
   "outputs": [
    {
     "data": {
      "text/plain": [
       "'My name is Kobe Bryant'"
      ]
     },
     "execution_count": 13,
     "metadata": {},
     "output_type": "execute_result"
    }
   ],
   "source": [
    "### Function 1\n",
    "\n",
    "\n",
    "### use function to introduce yourself \n",
    "def say_hello(name): \n",
    "    return'My name is ' + name \n",
    "\n",
    "\n",
    "say_hello('Kobe Bryant')  \n"
   ]
  },
  {
   "cell_type": "code",
   "execution_count": 12,
   "metadata": {},
   "outputs": [
    {
     "data": {
      "text/plain": [
       "'My name is Kobe Bryant and my age is 41'"
      ]
     },
     "execution_count": 12,
     "metadata": {},
     "output_type": "execute_result"
    }
   ],
   "source": [
    "### Let's make it more complicated \n",
    "\n",
    "def introduce(name,age): \n",
    "    return 'My name is ' + name + ' and my age is ' + str(age) \n",
    "\n",
    "## Since age is integer type and cannot concatenate with string\n",
    "\n",
    "introduce('Kobe Bryant',41) \n"
   ]
  },
  {
   "cell_type": "code",
   "execution_count": 49,
   "metadata": {},
   "outputs": [
    {
     "data": {
      "text/plain": [
       "3"
      ]
     },
     "execution_count": 49,
     "metadata": {},
     "output_type": "execute_result"
    }
   ],
   "source": [
    "### sum function \n",
    "### integer type\n",
    "\n",
    "\n",
    "def add_num(num1,num2): \n",
    "    return num1+num2 \n",
    "\n",
    "\n",
    "add_num(1,2) \n",
    "\n"
   ]
  },
  {
   "cell_type": "code",
   "execution_count": 50,
   "metadata": {},
   "outputs": [
    {
     "data": {
      "text/plain": [
       "'1020'"
      ]
     },
     "execution_count": 50,
     "metadata": {},
     "output_type": "execute_result"
    }
   ],
   "source": [
    "### sum function \n",
    "\n",
    "### string type \n",
    "\n",
    "### Be careful with the type of the variable \n",
    "\n",
    "\n",
    "def add_num(num1,num2): \n",
    "    return num1+num2 \n",
    "\n",
    "add_num('10','20') \n",
    "\n"
   ]
  },
  {
   "cell_type": "code",
   "execution_count": 21,
   "metadata": {},
   "outputs": [
    {
     "data": {
      "text/plain": [
       "'This is even number'"
      ]
     },
     "execution_count": 21,
     "metadata": {},
     "output_type": "execute_result"
    }
   ],
   "source": [
    "### check even number \n",
    "\n",
    "\n",
    "def even_check(num): \n",
    "    if num%2 ==0:\n",
    "        return 'This is even number' \n",
    "    else: \n",
    "        return 'This is odd number' \n",
    "    \n",
    "even_check(34)"
   ]
  },
  {
   "cell_type": "code",
   "execution_count": 51,
   "metadata": {},
   "outputs": [
    {
     "name": "stdout",
     "output_type": "stream",
     "text": [
      "This is odd number\n",
      "This is even number\n",
      "This is odd number\n",
      "This is even number\n",
      "This is odd number\n"
     ]
    }
   ],
   "source": [
    "### check the even number in a list: \n",
    "### Notice we use print function here \n",
    "\n",
    "def even_check(mylist): \n",
    "    for i in mylist: \n",
    "        if i%2 ==0: \n",
    "            print('This is even number')\n",
    "        else: \n",
    "            print('This is odd number')\n",
    "even_check([1,2,3,4,5]) \n",
    "\n"
   ]
  },
  {
   "cell_type": "code",
   "execution_count": 52,
   "metadata": {},
   "outputs": [
    {
     "data": {
      "text/plain": [
       "True"
      ]
     },
     "execution_count": 52,
     "metadata": {},
     "output_type": "execute_result"
    }
   ],
   "source": [
    "### check the even list: \n",
    "### if there is a number in the list \n",
    "### We will return true \n",
    "\n",
    "def even_check_list(num): \n",
    "    for i in num: \n",
    "        if i%2==0:\n",
    "            return True \n",
    "        else: \n",
    "            pass\n",
    "        \n",
    "even_check_list([3,3,55,4])\n"
   ]
  },
  {
   "cell_type": "code",
   "execution_count": 39,
   "metadata": {},
   "outputs": [
    {
     "data": {
      "text/plain": [
       "False"
      ]
     },
     "execution_count": 39,
     "metadata": {},
     "output_type": "execute_result"
    }
   ],
   "source": [
    "### Attention : \n",
    "### Do not use return False in the else statement \n",
    "### Because it only check the first number in the list \n",
    "### Let's see example: \n",
    "\n",
    "\n",
    "def even_check_list(num): \n",
    "    for i in num: \n",
    "        if i%2==0:\n",
    "            return True \n",
    "        else: \n",
    "            return False\n",
    "        \n",
    "even_check_list([3,3,55,4]) ## This should return true "
   ]
  },
  {
   "cell_type": "code",
   "execution_count": 40,
   "metadata": {},
   "outputs": [
    {
     "data": {
      "text/plain": [
       "True"
      ]
     },
     "execution_count": 40,
     "metadata": {},
     "output_type": "execute_result"
    }
   ],
   "source": [
    "### How can we solve this problem? \n",
    "### Put return False outside the for loop \n",
    "\n",
    "\n",
    "def even_check_list(num): \n",
    "    for i in num: \n",
    "        if i%2==0:\n",
    "            return True \n",
    "        else: \n",
    "            pass\n",
    "    return False \n",
    "        \n",
    "even_check_list([3,3,55,4]) ## See Differences? "
   ]
  },
  {
   "cell_type": "code",
   "execution_count": 48,
   "metadata": {},
   "outputs": [
    {
     "data": {
      "text/plain": [
       "[2, 4]"
      ]
     },
     "execution_count": 48,
     "metadata": {},
     "output_type": "execute_result"
    }
   ],
   "source": [
    "### return the even number in list \n",
    "\n",
    "even_number = [] \n",
    "\n",
    "def even_number1(mylist): \n",
    "    for num in mylist:\n",
    "        if num%2 ==0: \n",
    "            even_number.append(num)\n",
    "        else: \n",
    "            pass \n",
    "    return even_number  \n",
    "\n",
    "even_number1([1,2,3,4,5]) "
   ]
  },
  {
   "cell_type": "code",
   "execution_count": 53,
   "metadata": {},
   "outputs": [
    {
     "name": "stdout",
     "output_type": "stream",
     "text": [
      "APPL\n",
      "200\n",
      "GOOG\n",
      "400\n",
      "MSFT\n",
      "100\n"
     ]
    }
   ],
   "source": [
    "### Tuple  Unpacking with Python Function\n",
    "\n",
    "stock_prices = [('APPL',200),('GOOG',400),('MSFT',100)]\n",
    "\n",
    "for stock,price in stock_prices: \n",
    "    print(stock)\n",
    "    print(price) "
   ]
  },
  {
   "cell_type": "code",
   "execution_count": 54,
   "metadata": {},
   "outputs": [
    {
     "name": "stdout",
     "output_type": "stream",
     "text": [
      "220.0\n",
      "440.0\n",
      "110.0\n"
     ]
    }
   ],
   "source": [
    "for stock,price in stock_prices: \n",
    "    print(price + 0.1*price) "
   ]
  },
  {
   "cell_type": "code",
   "execution_count": 62,
   "metadata": {},
   "outputs": [],
   "source": [
    "###  Example 1 \n",
    "#### WHo has the most sales ? \n",
    "\n",
    "sales = [('John',300), ('Ben',230),('Koko',130),('Leo',402)] \n",
    "\n",
    "\n",
    "def sales_check(sales):\n",
    "    \n",
    "    current_sales = 0 \n",
    "    names_sales = ' ' \n",
    "\n",
    "    for names, volume in sales: \n",
    "        if volume > current_sales: \n",
    "            current_sales = volume \n",
    "            names_sales = names \n",
    "        else: \n",
    "            pass \n",
    "        \n",
    "    return (names_sales, current_sales) \n"
   ]
  },
  {
   "cell_type": "code",
   "execution_count": 63,
   "metadata": {},
   "outputs": [
    {
     "data": {
      "text/plain": [
       "('Leo', 402)"
      ]
     },
     "execution_count": 63,
     "metadata": {},
     "output_type": "execute_result"
    }
   ],
   "source": [
    "sales_check(sales)"
   ]
  },
  {
   "cell_type": "code",
   "execution_count": 66,
   "metadata": {},
   "outputs": [
    {
     "data": {
      "text/plain": [
       "('Eva', 97)"
      ]
     },
     "execution_count": 66,
     "metadata": {},
     "output_type": "execute_result"
    }
   ],
   "source": [
    "### Example 2: \n",
    "### Whose grade is lowest ? \n",
    "\n",
    "\n",
    "grade = [('Abby', 75),('Hebe',78),('Yoyo',89),('Eva',97)] \n",
    "\n",
    "def grade_check(grade): \n",
    "    student_name = '' \n",
    "    student_grade = 0 \n",
    "    \n",
    "    for name, score in grade: \n",
    "        if score > student_grade: \n",
    "            student_grade = score \n",
    "            student_name = name \n",
    "        else: \n",
    "            pass \n",
    "        \n",
    "    return (student_name,student_grade)\n",
    "\n",
    "grade_check(grade)"
   ]
  },
  {
   "cell_type": "code",
   "execution_count": 67,
   "metadata": {},
   "outputs": [
    {
     "data": {
      "text/plain": [
       "('Eva', 97)"
      ]
     },
     "execution_count": 67,
     "metadata": {},
     "output_type": "execute_result"
    }
   ],
   "source": [
    "### assign a new name to this function \n",
    "\n",
    "result = grade_check(grade) \n",
    "result "
   ]
  },
  {
   "cell_type": "code",
   "execution_count": 72,
   "metadata": {},
   "outputs": [
    {
     "data": {
      "text/plain": [
       "'Eva'"
      ]
     },
     "execution_count": 72,
     "metadata": {},
     "output_type": "execute_result"
    }
   ],
   "source": [
    "\n",
    "## assign two names to this function \n",
    "\n",
    "student, score = grade_check(grade) \n",
    "student \n"
   ]
  },
  {
   "cell_type": "code",
   "execution_count": 82,
   "metadata": {},
   "outputs": [
    {
     "data": {
      "text/plain": [
       "[6, 1, 3, 4, 2, 7, 5]"
      ]
     },
     "execution_count": 82,
     "metadata": {},
     "output_type": "execute_result"
    }
   ],
   "source": [
    "#### Interactions between Python Functions \n",
    "\n",
    "### shuffle \n",
    "\n",
    "\n",
    "example = [1,2,3,4,5,6,7]\n",
    "\n",
    "from random import shuffle \n",
    "\n",
    "shuffle(example) \n",
    "\n",
    "example "
   ]
  },
  {
   "cell_type": "code",
   "execution_count": 83,
   "metadata": {},
   "outputs": [],
   "source": [
    "##define the shuffle function and we can name it \n",
    "\n",
    "def shuffle_list(mylist): \n",
    "    shuffle(mylist) \n",
    "    return mylist "
   ]
  },
  {
   "cell_type": "code",
   "execution_count": 85,
   "metadata": {},
   "outputs": [
    {
     "data": {
      "text/plain": [
       "[5, 1, 4, 7, 2, 6, 3]"
      ]
     },
     "execution_count": 85,
     "metadata": {},
     "output_type": "execute_result"
    }
   ],
   "source": [
    "example = [1,2,3,4,5,6,7]\n",
    "\n",
    "result = shuffle_list(example)\n",
    "result   \n",
    "\n",
    "### IF we define the built-in function, we can name this function \n",
    "### However, if we use built in funciton directly, we cannot name it. "
   ]
  },
  {
   "cell_type": "code",
   "execution_count": 86,
   "metadata": {},
   "outputs": [
    {
     "data": {
      "text/plain": [
       "['', '', 'o']"
      ]
     },
     "execution_count": 86,
     "metadata": {},
     "output_type": "execute_result"
    }
   ],
   "source": [
    "shuffle_list(['','o','']) "
   ]
  },
  {
   "cell_type": "code",
   "execution_count": 93,
   "metadata": {},
   "outputs": [],
   "source": [
    "def player_guess(): \n",
    "    \n",
    "    guess = '' \n",
    "    \n",
    "    while guess not in ['3','24','23','6']: \n",
    "        guess = input('Select a number: 3,24,23,6 ') \n",
    "    return int(guess) "
   ]
  },
  {
   "cell_type": "code",
   "execution_count": 94,
   "metadata": {},
   "outputs": [
    {
     "name": "stdout",
     "output_type": "stream",
     "text": [
      "Select a number: 3,24,23,6 3\n"
     ]
    },
    {
     "data": {
      "text/plain": [
       "3"
      ]
     },
     "execution_count": 94,
     "metadata": {},
     "output_type": "execute_result"
    }
   ],
   "source": [
    "player_guess()"
   ]
  },
  {
   "cell_type": "code",
   "execution_count": 95,
   "metadata": {},
   "outputs": [],
   "source": [
    "def check_guess(mylist,guess): \n",
    "    if mylist[guess] =='o': \n",
    "        print('Right Guess ! Good Job!') \n",
    "    else: \n",
    "        print(mylist) \n",
    "        print('\\n')\n",
    "        print('Wrong Guess!') \n",
    "        \n",
    " \n"
   ]
  },
  {
   "cell_type": "code",
   "execution_count": 96,
   "metadata": {},
   "outputs": [
    {
     "name": "stdout",
     "output_type": "stream",
     "text": [
      "Select a number: 3,24,23,6 3\n",
      "['Michael', 'o', 'deng', 'Kobe']\n",
      "\n",
      "\n",
      "Wrong Guess!\n"
     ]
    }
   ],
   "source": [
    "### Initial list\n",
    "\n",
    "mylist = ['deng','Kobe','Michael','o'] \n",
    "\n",
    "\n",
    "### shuffle list \n",
    "\n",
    "mixed = shuffle_list(mylist) \n",
    "\n",
    "###User Guess \n",
    "\n",
    "guess = player_guess()\n",
    "\n",
    "###Check Guess \n",
    "\n",
    "check_guess(mixed,guess) \n"
   ]
  },
  {
   "cell_type": "code",
   "execution_count": 97,
   "metadata": {},
   "outputs": [
    {
     "data": {
      "text/plain": [
       "10.0"
      ]
     },
     "execution_count": 97,
     "metadata": {},
     "output_type": "execute_result"
    }
   ],
   "source": [
    "### * args and **kwargs \n",
    "### How do we define our function if there are many arguments \n",
    "\n",
    "def myfunc(*args): \n",
    "    return sum(args) * 0.05\n",
    "\n",
    "myfunc(30,40,30,60,40) \n",
    "\n",
    "\n",
    "\n",
    "\n",
    "\n"
   ]
  },
  {
   "cell_type": "code",
   "execution_count": 99,
   "metadata": {},
   "outputs": [
    {
     "data": {
      "text/plain": [
       "200"
      ]
     },
     "execution_count": 99,
     "metadata": {},
     "output_type": "execute_result"
    }
   ],
   "source": [
    "## We can use any other arguments not only args \n",
    "\n",
    "\n",
    "def myfunc(*see): \n",
    "    return sum(see)\n",
    "\n",
    "myfunc(30,40,30,60,40)"
   ]
  },
  {
   "cell_type": "code",
   "execution_count": 100,
   "metadata": {},
   "outputs": [],
   "source": [
    "### args \n",
    "### return as \n",
    "\n",
    "def myfunc(*see): \n",
    "    for item in see: \n",
    "        print(item) \n",
    "        \n"
   ]
  },
  {
   "cell_type": "code",
   "execution_count": 101,
   "metadata": {},
   "outputs": [
    {
     "name": "stdout",
     "output_type": "stream",
     "text": [
      "30\n",
      "40\n",
      "30\n",
      "60\n",
      "40\n"
     ]
    }
   ],
   "source": [
    "myfunc(30,40,30,60,40)"
   ]
  },
  {
   "cell_type": "code",
   "execution_count": 108,
   "metadata": {},
   "outputs": [],
   "source": [
    "### kwargs \n",
    "###return as dictionary \n",
    "\n",
    "def myfunc(**kwargs): \n",
    "    print(kwargs)\n",
    "    if 'score' in kwargs: \n",
    "        print('My score is {}'.format(kwargs['score'])) \n",
    "    else: \n",
    "        print('I do not know my score ') "
   ]
  },
  {
   "cell_type": "code",
   "execution_count": 109,
   "metadata": {},
   "outputs": [
    {
     "name": "stdout",
     "output_type": "stream",
     "text": [
      "{'score': 98, 'age': 30}\n",
      "My score is 98\n"
     ]
    }
   ],
   "source": [
    "myfunc(score = 98, age = 30) "
   ]
  },
  {
   "cell_type": "code",
   "execution_count": 110,
   "metadata": {},
   "outputs": [
    {
     "name": "stdout",
     "output_type": "stream",
     "text": [
      "{'age': 30}\n",
      "I do not know my score \n"
     ]
    }
   ],
   "source": [
    "myfunc(age = 30)"
   ]
  },
  {
   "cell_type": "code",
   "execution_count": 115,
   "metadata": {},
   "outputs": [],
   "source": [
    "#### combination \n",
    "\n",
    "def myfunc(*args, **kwargs): \n",
    "    print(args)\n",
    "    print(kwargs) \n",
    "    print('I would like {} {}'.format(args[0],kwargs['food'])) "
   ]
  },
  {
   "cell_type": "code",
   "execution_count": 116,
   "metadata": {},
   "outputs": [
    {
     "name": "stdout",
     "output_type": "stream",
     "text": [
      "(20, 30, 40)\n",
      "{'animal': 'dog', 'food': 'eggs', 'drink': 'coke'}\n",
      "I would like 20 eggs\n"
     ]
    }
   ],
   "source": [
    "myfunc(20,30,40,animal = 'dog', food = 'eggs',drink = 'coke') "
   ]
  },
  {
   "cell_type": "code",
   "execution_count": 117,
   "metadata": {},
   "outputs": [],
   "source": [
    "### Check even number in list\n",
    "\n",
    "def myfunc(*args): \n",
    "    list = [] \n",
    "    for i in args: \n",
    "        if i%2 ==0: \n",
    "            list.append(i) \n",
    "        else: \n",
    "            pass\n",
    "    return list \n",
    "\n"
   ]
  },
  {
   "cell_type": "code",
   "execution_count": 118,
   "metadata": {},
   "outputs": [
    {
     "data": {
      "text/plain": [
       "[6, 8]"
      ]
     },
     "execution_count": 118,
     "metadata": {},
     "output_type": "execute_result"
    }
   ],
   "source": [
    "myfunc(5,6,7,8)"
   ]
  },
  {
   "cell_type": "code",
   "execution_count": 123,
   "metadata": {},
   "outputs": [],
   "source": [
    "def myfunc(string): \n",
    "    str1 = [] \n",
    "    for i in range(0,len(string)): \n",
    "        if i %2 ==0: \n",
    "            str1.append(string[i].lower()) \n",
    "        else: \n",
    "            str1.append(string[i].upper())\n",
    "            \n",
    "    return ''.join(str1)"
   ]
  },
  {
   "cell_type": "code",
   "execution_count": 124,
   "metadata": {},
   "outputs": [
    {
     "data": {
      "text/plain": [
       "'sQwEwGuIwSq'"
      ]
     },
     "execution_count": 124,
     "metadata": {},
     "output_type": "execute_result"
    }
   ],
   "source": [
    "myfunc('sqWEwguIWsQ')"
   ]
  },
  {
   "cell_type": "code",
   "execution_count": null,
   "metadata": {},
   "outputs": [],
   "source": []
  }
 ],
 "metadata": {
  "hide_input": false,
  "kernelspec": {
   "display_name": "Python 3",
   "language": "python",
   "name": "python3"
  },
  "language_info": {
   "codemirror_mode": {
    "name": "ipython",
    "version": 3
   },
   "file_extension": ".py",
   "mimetype": "text/x-python",
   "name": "python",
   "nbconvert_exporter": "python",
   "pygments_lexer": "ipython3",
   "version": "3.7.9"
  },
  "latex_envs": {
   "LaTeX_envs_menu_present": true,
   "autoclose": false,
   "autocomplete": true,
   "bibliofile": "biblio.bib",
   "cite_by": "apalike",
   "current_citInitial": 1,
   "eqLabelWithNumbers": true,
   "eqNumInitial": 1,
   "hotkeys": {
    "equation": "Ctrl-E",
    "itemize": "Ctrl-I"
   },
   "labels_anchors": false,
   "latex_user_defs": false,
   "report_style_numbering": false,
   "user_envs_cfg": false
  },
  "nbTranslate": {
   "displayLangs": [
    "*"
   ],
   "hotkey": "alt-t",
   "langInMainMenu": true,
   "sourceLang": "en",
   "targetLang": "fr",
   "useGoogleTranslate": true
  },
  "toc": {
   "base_numbering": 1,
   "nav_menu": {},
   "number_sections": true,
   "sideBar": true,
   "skip_h1_title": false,
   "title_cell": "Table of Contents",
   "title_sidebar": "Contents",
   "toc_cell": false,
   "toc_position": {},
   "toc_section_display": true,
   "toc_window_display": false
  }
 },
 "nbformat": 4,
 "nbformat_minor": 4
}
